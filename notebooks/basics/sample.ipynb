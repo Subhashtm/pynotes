{
 "cells": [
  {
   "cell_type": "code",
   "execution_count": null,
   "id": "f8a6b5a7-b879-473d-ba3f-828f632bdc28",
   "metadata": {},
   "outputs": [],
   "source": [
    "print('Hello,World)"
   ]
  }
 ],
 "metadata": {
  "kernelspec": {
   "display_name": "Python 3 (ipykernel)",
   "language": "python",
   "name": "python3"
  },
  "language_info": {
   "codemirror_mode": {
    "name": "ipython",
    "version": 3
   },
   "file_extension": ".py",
   "mimetype": "text/x-python",
   "name": "python",
   "nbconvert_exporter": "python",
   "pygments_lexer": "ipython3",
   "version": "3.11.13"
  }
 },
 "nbformat": 4,
 "nbformat_minor": 5
}
